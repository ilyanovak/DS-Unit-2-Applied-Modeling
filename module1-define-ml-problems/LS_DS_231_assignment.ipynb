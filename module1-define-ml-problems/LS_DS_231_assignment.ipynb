{
  "nbformat": 4,
  "nbformat_minor": 0,
  "metadata": {
    "kernelspec": {
      "display_name": "Python 3",
      "language": "python",
      "name": "python3"
    },
    "language_info": {
      "codemirror_mode": {
        "name": "ipython",
        "version": 3
      },
      "file_extension": ".py",
      "mimetype": "text/x-python",
      "name": "python",
      "nbconvert_exporter": "python",
      "pygments_lexer": "ipython3",
      "version": "3.7.6"
    },
    "colab": {
      "name": "LS_DS_231_assignment.ipynb",
      "provenance": []
    }
  },
  "cells": [
    {
      "cell_type": "markdown",
      "metadata": {
        "colab_type": "text",
        "id": "nCc3XZEyG3XV"
      },
      "source": [
        "Lambda School Data Science\n",
        "\n",
        "*Unit 2, Sprint 3, Module 1*\n",
        "\n",
        "---\n",
        "\n",
        "\n",
        "# Define ML problems\n",
        "\n",
        "You will use your portfolio project dataset for all assignments this sprint.\n",
        "\n",
        "## Assignment\n",
        "\n",
        "Complete these tasks for your project, and document your decisions.\n",
        "\n",
        "- [ ] Choose your target. Which column in your tabular dataset will you predict?\n",
        "\n",
        " **I have already created my own dataset of 10-20 features, each of which describe a country in a particular year; for example, population, gdp per capita, urbanization, inflation, crime rate, religion, etc.**\n",
        "\n",
        "- [ ] Is your problem regression or classification?\n",
        "\n",
        "**The problem is a regression because I am predicting a continuous variable**\n",
        "\n",
        "- [ ] How is your target distributed?\n",
        "    - Classification: How many classes? Are the classes imbalanced?\n",
        "    - Regression: Is the target right-skewed? If so, you may want to log transform the target.\n",
        "\n",
        "**It is relatively balanced, so no log is needed. However, many of my features are skewed, so they may or may not needed log, I'm not sure. I might alternatively standardize the features, but I'm not sure about that either.**\n",
        "\n",
        "- [ ] Choose your evaluation metric(s).\n",
        "    - Classification: Is your majority class frequency >= 50% and < 70% ? If so, you can just use accuracy if you want. Outside that range, accuracy could be misleading. What evaluation metric will you choose, in addition to or instead of accuracy?\n",
        "    - Regression: Will you use mean absolute error, root mean squared error, R^2, or other regression metrics?\n",
        "\n",
        "**I will be using R^2 because it is a more clear statement of how well my model does in the context of economics.**\n",
        "\n",
        "- [ ] Choose which observations you will use to train, validate, and test your model.\n",
        "    - Are some observations outliers? Will you exclude them?\n",
        "\n",
        "**I do not like the idea of removing outliers. I would prefer to take a log or standardize the data instead.**\n",
        "\n",
        "    - Will you do a random split or a time-based split?\n",
        "\n",
        "**I will do a time-based split because each observation is per nation-year.**\n",
        "\n",
        "- [ ] Begin to clean and explore your data.\n",
        "- [ ] Begin to choose which features, if any, to exclude. Would some features \"leak\" future information?\n",
        "\n",
        "If you haven't found a dataset yet, do that today. [Review requirements for your portfolio project](https://lambdaschool.github.io/ds/unit2) and choose your dataset.\n",
        "\n",
        "Some students worry, ***what if my model isn't “good”?*** Then, [produce a detailed tribute to your wrongness. That is science!](https://twitter.com/nathanwpyle/status/1176860147223867393)"
      ]
    },
    {
      "cell_type": "markdown",
      "metadata": {
        "id": "DrOZgm1dy1iM",
        "colab_type": "text"
      },
      "source": [
        "**(1) I have to choose what to do with my inbalanced dataset**\n",
        "\n",
        "**(2) I have to choose what kind of encoding to use**\n",
        "\n",
        "(**3) I have to choose what kind of imputation to use**\n",
        "\n",
        "**(4) I have to choose standardization or log transformation, or not**\n",
        "\n",
        "**(5) I have to choose PCA or Factor Analysis to create my target variable**"
      ]
    },
    {
      "cell_type": "markdown",
      "metadata": {
        "id": "qSSlh16bCL8e",
        "colab_type": "text"
      },
      "source": [
        "**My work can be found [here](https://github.com/ilyanovak/Quality_Of_Government) in my repository**"
      ]
    }
  ]
}